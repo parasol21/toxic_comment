{
 "cells": [
  {
   "cell_type": "code",
   "execution_count": 63,
   "id": "rolled-small",
   "metadata": {},
   "outputs": [],
   "source": [
    "import os\n",
    "import re\n",
    "import string\n",
    "import numpy as np\n",
    "import pandas as pd\n",
    "import matplotlib.pyplot as plt"
   ]
  },
  {
   "cell_type": "code",
   "execution_count": 64,
   "id": "statistical-perspective",
   "metadata": {},
   "outputs": [
    {
     "data": {
      "text/html": [
       "<div>\n",
       "<style scoped>\n",
       "    .dataframe tbody tr th:only-of-type {\n",
       "        vertical-align: middle;\n",
       "    }\n",
       "\n",
       "    .dataframe tbody tr th {\n",
       "        vertical-align: top;\n",
       "    }\n",
       "\n",
       "    .dataframe thead th {\n",
       "        text-align: right;\n",
       "    }\n",
       "</style>\n",
       "<table border=\"1\" class=\"dataframe\">\n",
       "  <thead>\n",
       "    <tr style=\"text-align: right;\">\n",
       "      <th></th>\n",
       "      <th>id</th>\n",
       "      <th>comment_text</th>\n",
       "      <th>toxic</th>\n",
       "      <th>severe_toxic</th>\n",
       "      <th>obscene</th>\n",
       "      <th>threat</th>\n",
       "      <th>insult</th>\n",
       "      <th>identity_hate</th>\n",
       "    </tr>\n",
       "  </thead>\n",
       "  <tbody>\n",
       "    <tr>\n",
       "      <th>0</th>\n",
       "      <td>0000997932d777bf</td>\n",
       "      <td>Explanation\\nWhy the edits made under my usern...</td>\n",
       "      <td>0</td>\n",
       "      <td>0</td>\n",
       "      <td>0</td>\n",
       "      <td>0</td>\n",
       "      <td>0</td>\n",
       "      <td>0</td>\n",
       "    </tr>\n",
       "    <tr>\n",
       "      <th>1</th>\n",
       "      <td>000103f0d9cfb60f</td>\n",
       "      <td>D'aww! He matches this background colour I'm s...</td>\n",
       "      <td>0</td>\n",
       "      <td>0</td>\n",
       "      <td>0</td>\n",
       "      <td>0</td>\n",
       "      <td>0</td>\n",
       "      <td>0</td>\n",
       "    </tr>\n",
       "    <tr>\n",
       "      <th>2</th>\n",
       "      <td>000113f07ec002fd</td>\n",
       "      <td>Hey man, I'm really not trying to edit war. It...</td>\n",
       "      <td>0</td>\n",
       "      <td>0</td>\n",
       "      <td>0</td>\n",
       "      <td>0</td>\n",
       "      <td>0</td>\n",
       "      <td>0</td>\n",
       "    </tr>\n",
       "    <tr>\n",
       "      <th>3</th>\n",
       "      <td>0001b41b1c6bb37e</td>\n",
       "      <td>\"\\nMore\\nI can't make any real suggestions on ...</td>\n",
       "      <td>0</td>\n",
       "      <td>0</td>\n",
       "      <td>0</td>\n",
       "      <td>0</td>\n",
       "      <td>0</td>\n",
       "      <td>0</td>\n",
       "    </tr>\n",
       "    <tr>\n",
       "      <th>4</th>\n",
       "      <td>0001d958c54c6e35</td>\n",
       "      <td>You, sir, are my hero. Any chance you remember...</td>\n",
       "      <td>0</td>\n",
       "      <td>0</td>\n",
       "      <td>0</td>\n",
       "      <td>0</td>\n",
       "      <td>0</td>\n",
       "      <td>0</td>\n",
       "    </tr>\n",
       "  </tbody>\n",
       "</table>\n",
       "</div>"
      ],
      "text/plain": [
       "                 id                                       comment_text  toxic  \\\n",
       "0  0000997932d777bf  Explanation\\nWhy the edits made under my usern...      0   \n",
       "1  000103f0d9cfb60f  D'aww! He matches this background colour I'm s...      0   \n",
       "2  000113f07ec002fd  Hey man, I'm really not trying to edit war. It...      0   \n",
       "3  0001b41b1c6bb37e  \"\\nMore\\nI can't make any real suggestions on ...      0   \n",
       "4  0001d958c54c6e35  You, sir, are my hero. Any chance you remember...      0   \n",
       "\n",
       "   severe_toxic  obscene  threat  insult  identity_hate  \n",
       "0             0        0       0       0              0  \n",
       "1             0        0       0       0              0  \n",
       "2             0        0       0       0              0  \n",
       "3             0        0       0       0              0  \n",
       "4             0        0       0       0              0  "
      ]
     },
     "execution_count": 64,
     "metadata": {},
     "output_type": "execute_result"
    }
   ],
   "source": [
    "data = pd.read_csv('../../train.csv/train.csv')\n",
    "data.head()"
   ]
  },
  {
   "cell_type": "code",
   "execution_count": 65,
   "id": "exempt-heather",
   "metadata": {},
   "outputs": [],
   "source": [
    "def clean(line):\n",
    "    newline = line.strip().lower().replace('\\n', ' ')\n",
    "    words = re.split(r'\\W+', newline)\n",
    "    filter_table = str.maketrans('', '', string.punctuation)\n",
    "    clean_words = [w.translate(filter_table) for w in words if len(w.translate(filter_table))]\n",
    "    return clean_words"
   ]
  },
  {
   "cell_type": "code",
   "execution_count": 66,
   "id": "superb-frequency",
   "metadata": {},
   "outputs": [
    {
     "data": {
      "text/plain": [
       "(159571, 8)"
      ]
     },
     "execution_count": 66,
     "metadata": {},
     "output_type": "execute_result"
    }
   ],
   "source": [
    "data.shape"
   ]
  },
  {
   "cell_type": "code",
   "execution_count": 67,
   "id": "chinese-bouquet",
   "metadata": {},
   "outputs": [],
   "source": [
    "X_data = data['comment_text'].apply(clean).values"
   ]
  },
  {
   "cell_type": "code",
   "execution_count": 68,
   "id": "thrown-portuguese",
   "metadata": {},
   "outputs": [],
   "source": [
    "Y_data_columns = data.drop(['comment_text','id'], axis=1).columns\n",
    "Y_data = data.drop(['comment_text','id'], axis=1).values"
   ]
  },
  {
   "cell_type": "code",
   "execution_count": 69,
   "id": "demanding-hostel",
   "metadata": {},
   "outputs": [],
   "source": [
    "from sklearn.model_selection import train_test_split\n",
    "trainX, testX, trainY, testY = train_test_split(X_data, Y_data, test_size=0.2, random_state=0)"
   ]
  },
  {
   "cell_type": "code",
   "execution_count": 70,
   "id": "national-transport",
   "metadata": {},
   "outputs": [],
   "source": [
    "from sklearn.feature_extraction.text import CountVectorizer\n",
    "vectorizer1 = CountVectorizer(tokenizer=lambda x:x, preprocessor=lambda x:x)\n",
    "vectorized1_train_x = vectorizer1.fit_transform(trainX)\n",
    "vectorized1_test_x = vectorizer1.transform(testX)"
   ]
  },
  {
   "cell_type": "code",
   "execution_count": 71,
   "id": "unlike-option",
   "metadata": {},
   "outputs": [],
   "source": [
    "from sklearn.naive_bayes import MultinomialNB\n",
    "from sklearn.metrics import accuracy_score\n",
    "from sklearn.metrics import classification_report\n",
    "class NaiveBayer(object):\n",
    "    def __init__(self, classes):\n",
    "        self.models = {}\n",
    "        self.classes = classes\n",
    "        for cls in self.classes:\n",
    "            model = MultinomialNB()\n",
    "            self.models[cls] = model\n",
    "\n",
    "    def fit(self, train_x, train_y):\n",
    "        print(self.classes)\n",
    "        for idx, cls in enumerate(self.classes):\n",
    "            print(idx, cls)\n",
    "            class_labels = train_y[:,idx]\n",
    "            self.models[cls].fit(train_x, class_labels)\n",
    "\n",
    "    def fit_and_validate(self, train_x, train_y, validate_x, validate_y):\n",
    "        self.fit(train_x, train_y)\n",
    "        return self.predict(validate_x), None\n",
    "\n",
    "    def predict(self, test_x):\n",
    "        predictions = np.zeros((test_x.shape[0], len(self.classes)))\n",
    "        for idx, cls in enumerate(self.classes):\n",
    "            predictions[:, idx] = self.models[cls].predict(test_x)\n",
    "        return predictions\n",
    "    def predict_prob(self, test_x):\n",
    "        probs = np.zeros((test_x.shape[0], len(self.classes)))\n",
    "        for idx, cls in enumerate(self.classes):\n",
    "            probs[:, idx] = self.models[cls].predict_proba(test_x)[:,1]\n",
    "        return probs"
   ]
  },
  {
   "cell_type": "code",
   "execution_count": 72,
   "id": "institutional-mouth",
   "metadata": {},
   "outputs": [],
   "source": [
    "classifier = NaiveBayer(Y_data_columns)"
   ]
  },
  {
   "cell_type": "code",
   "execution_count": 73,
   "id": "immune-strain",
   "metadata": {},
   "outputs": [
    {
     "name": "stdout",
     "output_type": "stream",
     "text": [
      "Index(['toxic', 'severe_toxic', 'obscene', 'threat', 'insult',\n",
      "       'identity_hate'],\n",
      "      dtype='object')\n",
      "0 toxic\n",
      "1 severe_toxic\n",
      "2 obscene\n",
      "3 threat\n",
      "4 insult\n",
      "5 identity_hate\n"
     ]
    }
   ],
   "source": [
    "classifier.fit(vectorized1_train_x, trainY)"
   ]
  },
  {
   "cell_type": "code",
   "execution_count": 74,
   "id": "established-georgia",
   "metadata": {},
   "outputs": [
    {
     "data": {
      "text/plain": [
       "scipy.sparse.csr.csr_matrix"
      ]
     },
     "execution_count": 74,
     "metadata": {},
     "output_type": "execute_result"
    }
   ],
   "source": [
    "type(vectorized1_train_x)"
   ]
  },
  {
   "cell_type": "code",
   "execution_count": 75,
   "id": "interracial-cancellation",
   "metadata": {},
   "outputs": [],
   "source": [
    "predictions = classifier.predict(vectorized1_test_x)"
   ]
  },
  {
   "cell_type": "code",
   "execution_count": 76,
   "id": "selective-museum",
   "metadata": {},
   "outputs": [],
   "source": [
    "accuracy = accuracy_score(testY, predictions)"
   ]
  },
  {
   "cell_type": "code",
   "execution_count": 77,
   "id": "twelve-ending",
   "metadata": {},
   "outputs": [
    {
     "data": {
      "text/plain": [
       "0.900736330878897"
      ]
     },
     "execution_count": 77,
     "metadata": {},
     "output_type": "execute_result"
    }
   ],
   "source": [
    "accuracy"
   ]
  },
  {
   "cell_type": "code",
   "execution_count": 78,
   "id": "variable-hungary",
   "metadata": {},
   "outputs": [],
   "source": [
    "cls_report = classification_report(testY, predictions, zero_division=1)"
   ]
  },
  {
   "cell_type": "code",
   "execution_count": 79,
   "id": "russian-bibliography",
   "metadata": {},
   "outputs": [
    {
     "name": "stdout",
     "output_type": "stream",
     "text": [
      "              precision    recall  f1-score   support\n",
      "\n",
      "           0       0.78      0.63      0.69      3101\n",
      "           1       0.40      0.42      0.41       329\n",
      "           2       0.72      0.63      0.67      1698\n",
      "           3       0.15      0.04      0.07        91\n",
      "           4       0.67      0.57      0.61      1594\n",
      "           5       0.33      0.13      0.19       298\n",
      "\n",
      "   micro avg       0.70      0.58      0.63      7111\n",
      "   macro avg       0.51      0.40      0.44      7111\n",
      "weighted avg       0.69      0.58      0.63      7111\n",
      " samples avg       0.97      0.95      0.93      7111\n",
      "\n"
     ]
    }
   ],
   "source": [
    "print(cls_report)"
   ]
  },
  {
   "cell_type": "code",
   "execution_count": 80,
   "id": "thick-seattle",
   "metadata": {},
   "outputs": [],
   "source": [
    "from sklearn.feature_extraction.text import TfidfVectorizer\n",
    "vectorizer2 = TfidfVectorizer(\n",
    "    #ngram_range = (1,3),\n",
    "    use_idf = 1,\n",
    "    smooth_idf = 1,\n",
    "    #stop_words = 'english',\n",
    "    tokenizer=lambda x:x, \n",
    "    preprocessor=lambda x:x\n",
    ")"
   ]
  },
  {
   "cell_type": "code",
   "execution_count": 81,
   "id": "sized-leisure",
   "metadata": {},
   "outputs": [],
   "source": [
    "vectorized2_train_x = vectorizer2.fit_transform(trainX)\n",
    "vectorized2_test_x = vectorizer2.transform(testX)"
   ]
  },
  {
   "cell_type": "code",
   "execution_count": 82,
   "id": "subjective-brush",
   "metadata": {},
   "outputs": [],
   "source": [
    "classifier2 = NaiveBayer(Y_data_columns)"
   ]
  },
  {
   "cell_type": "code",
   "execution_count": 83,
   "id": "mysterious-bahamas",
   "metadata": {},
   "outputs": [
    {
     "name": "stdout",
     "output_type": "stream",
     "text": [
      "Index(['toxic', 'severe_toxic', 'obscene', 'threat', 'insult',\n",
      "       'identity_hate'],\n",
      "      dtype='object')\n",
      "0 toxic\n",
      "1 severe_toxic\n",
      "2 obscene\n",
      "3 threat\n",
      "4 insult\n",
      "5 identity_hate\n"
     ]
    }
   ],
   "source": [
    "classifier2.fit(vectorized2_train_x, trainY)"
   ]
  },
  {
   "cell_type": "code",
   "execution_count": 84,
   "id": "premium-farming",
   "metadata": {},
   "outputs": [],
   "source": [
    "predictions2 = classifier2.predict(vectorized2_test_x)"
   ]
  },
  {
   "cell_type": "code",
   "execution_count": 85,
   "id": "focal-concept",
   "metadata": {},
   "outputs": [],
   "source": [
    "accuracy2 = accuracy_score(testY, predictions2)"
   ]
  },
  {
   "cell_type": "code",
   "execution_count": 86,
   "id": "floral-antigua",
   "metadata": {},
   "outputs": [
    {
     "data": {
      "text/plain": [
       "0.8971956760144133"
      ]
     },
     "execution_count": 86,
     "metadata": {},
     "output_type": "execute_result"
    }
   ],
   "source": [
    "accuracy2"
   ]
  },
  {
   "cell_type": "code",
   "execution_count": 87,
   "id": "selective-breath",
   "metadata": {},
   "outputs": [],
   "source": [
    "cls_report2 = classification_report(testY, predictions2, zero_division=1)"
   ]
  },
  {
   "cell_type": "code",
   "execution_count": 88,
   "id": "periodic-interval",
   "metadata": {},
   "outputs": [
    {
     "name": "stdout",
     "output_type": "stream",
     "text": [
      "              precision    recall  f1-score   support\n",
      "\n",
      "           0       0.99      0.14      0.25      3101\n",
      "           1       0.00      0.00      0.00       329\n",
      "           2       0.99      0.08      0.15      1698\n",
      "           3       1.00      0.01      0.02        91\n",
      "           4       0.88      0.03      0.05      1594\n",
      "           5       0.00      0.00      0.00       298\n",
      "\n",
      "   micro avg       0.98      0.09      0.16      7111\n",
      "   macro avg       0.64      0.04      0.08      7111\n",
      "weighted avg       0.88      0.09      0.16      7111\n",
      " samples avg       1.00      0.90      0.90      7111\n",
      "\n"
     ]
    }
   ],
   "source": [
    "print(cls_report2)"
   ]
  },
  {
   "cell_type": "code",
   "execution_count": 89,
   "id": "hispanic-nutrition",
   "metadata": {},
   "outputs": [],
   "source": [
    "predictData = pd.read_csv(\"../../test.csv/test.csv\")"
   ]
  },
  {
   "cell_type": "code",
   "execution_count": 90,
   "id": "about-thing",
   "metadata": {},
   "outputs": [
    {
     "data": {
      "text/html": [
       "<div>\n",
       "<style scoped>\n",
       "    .dataframe tbody tr th:only-of-type {\n",
       "        vertical-align: middle;\n",
       "    }\n",
       "\n",
       "    .dataframe tbody tr th {\n",
       "        vertical-align: top;\n",
       "    }\n",
       "\n",
       "    .dataframe thead th {\n",
       "        text-align: right;\n",
       "    }\n",
       "</style>\n",
       "<table border=\"1\" class=\"dataframe\">\n",
       "  <thead>\n",
       "    <tr style=\"text-align: right;\">\n",
       "      <th></th>\n",
       "      <th>id</th>\n",
       "      <th>comment_text</th>\n",
       "    </tr>\n",
       "  </thead>\n",
       "  <tbody>\n",
       "    <tr>\n",
       "      <th>0</th>\n",
       "      <td>00001cee341fdb12</td>\n",
       "      <td>Yo bitch Ja Rule is more succesful then you'll...</td>\n",
       "    </tr>\n",
       "    <tr>\n",
       "      <th>1</th>\n",
       "      <td>0000247867823ef7</td>\n",
       "      <td>== From RfC == \\n\\n The title is fine as it is...</td>\n",
       "    </tr>\n",
       "    <tr>\n",
       "      <th>2</th>\n",
       "      <td>00013b17ad220c46</td>\n",
       "      <td>\" \\n\\n == Sources == \\n\\n * Zawe Ashton on Lap...</td>\n",
       "    </tr>\n",
       "    <tr>\n",
       "      <th>3</th>\n",
       "      <td>00017563c3f7919a</td>\n",
       "      <td>:If you have a look back at the source, the in...</td>\n",
       "    </tr>\n",
       "    <tr>\n",
       "      <th>4</th>\n",
       "      <td>00017695ad8997eb</td>\n",
       "      <td>I don't anonymously edit articles at all.</td>\n",
       "    </tr>\n",
       "  </tbody>\n",
       "</table>\n",
       "</div>"
      ],
      "text/plain": [
       "                 id                                       comment_text\n",
       "0  00001cee341fdb12  Yo bitch Ja Rule is more succesful then you'll...\n",
       "1  0000247867823ef7  == From RfC == \\n\\n The title is fine as it is...\n",
       "2  00013b17ad220c46  \" \\n\\n == Sources == \\n\\n * Zawe Ashton on Lap...\n",
       "3  00017563c3f7919a  :If you have a look back at the source, the in...\n",
       "4  00017695ad8997eb          I don't anonymously edit articles at all."
      ]
     },
     "execution_count": 90,
     "metadata": {},
     "output_type": "execute_result"
    }
   ],
   "source": [
    "predictData.head()"
   ]
  },
  {
   "cell_type": "code",
   "execution_count": 91,
   "id": "minor-burning",
   "metadata": {},
   "outputs": [],
   "source": [
    "predictX = predictData['comment_text'].apply(clean).values"
   ]
  },
  {
   "cell_type": "code",
   "execution_count": 99,
   "id": "digital-saturday",
   "metadata": {},
   "outputs": [],
   "source": [
    " def save_result(output_path, test_ids, probs):\n",
    "        with open(output_path, 'w') as output_csv_file:\n",
    "             header = ['id','toxic','severe_toxic','obscene','threat','insult','identity_hate']\n",
    "             writer = csv.writer(output_csv_file)\n",
    "             writer.writerow(header)\n",
    "             for test_id, prob in zip(test_ids, probs.tolist()):\n",
    "                 writer.writerow([test_id] + prob)"
   ]
  },
  {
   "cell_type": "code",
   "execution_count": 100,
   "id": "initial-capitol",
   "metadata": {},
   "outputs": [],
   "source": [
    "test_ids = predictData.id.values"
   ]
  },
  {
   "cell_type": "code",
   "execution_count": 101,
   "id": "baking-humanity",
   "metadata": {},
   "outputs": [
    {
     "data": {
      "text/plain": [
       "numpy.ndarray"
      ]
     },
     "execution_count": 101,
     "metadata": {},
     "output_type": "execute_result"
    }
   ],
   "source": [
    "type(test_ids)"
   ]
  },
  {
   "cell_type": "code",
   "execution_count": 102,
   "id": "lesbian-content",
   "metadata": {},
   "outputs": [],
   "source": [
    "vectorized1_predict_x = vectorizer1.transform(predictX)\n",
    "probs = classifier.predict_prob(vectorized1_predict_x)"
   ]
  },
  {
   "cell_type": "code",
   "execution_count": 104,
   "id": "obvious-cradle",
   "metadata": {},
   "outputs": [],
   "source": [
    "import csv\n",
    "save_result(\"./output.csv\", test_ids, probs)"
   ]
  },
  {
   "cell_type": "code",
   "execution_count": 111,
   "id": "preceding-sheffield",
   "metadata": {},
   "outputs": [],
   "source": [
    "output = pd.read_csv('./output.csv')"
   ]
  },
  {
   "cell_type": "code",
   "execution_count": 112,
   "id": "treated-collar",
   "metadata": {},
   "outputs": [
    {
     "data": {
      "text/html": [
       "<div>\n",
       "<style scoped>\n",
       "    .dataframe tbody tr th:only-of-type {\n",
       "        vertical-align: middle;\n",
       "    }\n",
       "\n",
       "    .dataframe tbody tr th {\n",
       "        vertical-align: top;\n",
       "    }\n",
       "\n",
       "    .dataframe thead th {\n",
       "        text-align: right;\n",
       "    }\n",
       "</style>\n",
       "<table border=\"1\" class=\"dataframe\">\n",
       "  <thead>\n",
       "    <tr style=\"text-align: right;\">\n",
       "      <th></th>\n",
       "      <th>id</th>\n",
       "      <th>toxic</th>\n",
       "      <th>severe_toxic</th>\n",
       "      <th>obscene</th>\n",
       "      <th>threat</th>\n",
       "      <th>insult</th>\n",
       "      <th>identity_hate</th>\n",
       "    </tr>\n",
       "  </thead>\n",
       "  <tbody>\n",
       "    <tr>\n",
       "      <th>0</th>\n",
       "      <td>00001cee341fdb12</td>\n",
       "      <td>1.000000e+00</td>\n",
       "      <td>7.405289e-17</td>\n",
       "      <td>1.000000e+00</td>\n",
       "      <td>6.623388e-43</td>\n",
       "      <td>1.000000e+00</td>\n",
       "      <td>1.016841e-16</td>\n",
       "    </tr>\n",
       "    <tr>\n",
       "      <th>1</th>\n",
       "      <td>0000247867823ef7</td>\n",
       "      <td>4.360101e-05</td>\n",
       "      <td>6.542264e-12</td>\n",
       "      <td>8.086729e-07</td>\n",
       "      <td>3.013321e-16</td>\n",
       "      <td>3.592789e-07</td>\n",
       "      <td>4.062722e-11</td>\n",
       "    </tr>\n",
       "    <tr>\n",
       "      <th>2</th>\n",
       "      <td>00013b17ad220c46</td>\n",
       "      <td>6.652962e-02</td>\n",
       "      <td>1.513413e-03</td>\n",
       "      <td>5.113488e-02</td>\n",
       "      <td>1.065353e-04</td>\n",
       "      <td>5.097021e-02</td>\n",
       "      <td>5.731068e-03</td>\n",
       "    </tr>\n",
       "    <tr>\n",
       "      <th>3</th>\n",
       "      <td>00017563c3f7919a</td>\n",
       "      <td>9.859798e-11</td>\n",
       "      <td>4.219547e-34</td>\n",
       "      <td>2.602332e-15</td>\n",
       "      <td>8.779592e-47</td>\n",
       "      <td>2.458794e-16</td>\n",
       "      <td>4.212849e-35</td>\n",
       "    </tr>\n",
       "    <tr>\n",
       "      <th>4</th>\n",
       "      <td>00017695ad8997eb</td>\n",
       "      <td>5.006149e-03</td>\n",
       "      <td>1.687772e-07</td>\n",
       "      <td>5.941361e-04</td>\n",
       "      <td>3.538871e-10</td>\n",
       "      <td>3.362592e-04</td>\n",
       "      <td>3.428668e-08</td>\n",
       "    </tr>\n",
       "  </tbody>\n",
       "</table>\n",
       "</div>"
      ],
      "text/plain": [
       "                 id         toxic  severe_toxic       obscene        threat  \\\n",
       "0  00001cee341fdb12  1.000000e+00  7.405289e-17  1.000000e+00  6.623388e-43   \n",
       "1  0000247867823ef7  4.360101e-05  6.542264e-12  8.086729e-07  3.013321e-16   \n",
       "2  00013b17ad220c46  6.652962e-02  1.513413e-03  5.113488e-02  1.065353e-04   \n",
       "3  00017563c3f7919a  9.859798e-11  4.219547e-34  2.602332e-15  8.779592e-47   \n",
       "4  00017695ad8997eb  5.006149e-03  1.687772e-07  5.941361e-04  3.538871e-10   \n",
       "\n",
       "         insult  identity_hate  \n",
       "0  1.000000e+00   1.016841e-16  \n",
       "1  3.592789e-07   4.062722e-11  \n",
       "2  5.097021e-02   5.731068e-03  \n",
       "3  2.458794e-16   4.212849e-35  \n",
       "4  3.362592e-04   3.428668e-08  "
      ]
     },
     "execution_count": 112,
     "metadata": {},
     "output_type": "execute_result"
    }
   ],
   "source": [
    "output.head()"
   ]
  },
  {
   "cell_type": "code",
   "execution_count": null,
   "id": "treated-remark",
   "metadata": {},
   "outputs": [],
   "source": []
  }
 ],
 "metadata": {
  "kernelspec": {
   "display_name": "Python 3",
   "language": "python",
   "name": "python3"
  },
  "language_info": {
   "codemirror_mode": {
    "name": "ipython",
    "version": 3
   },
   "file_extension": ".py",
   "mimetype": "text/x-python",
   "name": "python",
   "nbconvert_exporter": "python",
   "pygments_lexer": "ipython3",
   "version": "3.9.1"
  }
 },
 "nbformat": 4,
 "nbformat_minor": 5
}
